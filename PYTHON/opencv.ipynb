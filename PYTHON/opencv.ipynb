{
 "cells": [
  {
   "cell_type": "markdown",
   "metadata": {},
   "source": [
    "# 计算机眼里的图像"
   ]
  },
  {
   "cell_type": "code",
   "execution_count": 1,
   "metadata": {},
   "outputs": [],
   "source": [
    "import cv2\n",
    "import matplotlib.pyplot as plt\n",
    "import numpy as np"
   ]
  },
  {
   "cell_type": "code",
   "execution_count": 2,
   "metadata": {},
   "outputs": [
    {
     "name": "stdout",
     "output_type": "stream",
     "text": [
      "944136\n"
     ]
    }
   ],
   "source": [
    "img = cv2.imread('333.jpg')\n",
    "print(img.size)\n",
    "cv2.imshow('image',img)\n",
    "cv2.waitKey(0)\n",
    "cv2.destroyAllWindows()\n",
    "def cv_show(name,img):\n",
    "    cv2.imshow(name,img)\n",
    "    cv2.waitKey(0)\n",
    "    cv2.destroyAllWindows()\n"
   ]
  },
  {
   "cell_type": "code",
   "execution_count": 3,
   "metadata": {},
   "outputs": [
    {
     "name": "stdout",
     "output_type": "stream",
     "text": [
      "[[[ 48  42   1]\n",
      "  [ 48  42   1]\n",
      "  [ 48  42   1]\n",
      "  ...\n",
      "  [  6  15   5]\n",
      "  [  5  14   4]\n",
      "  [  5  14   4]]\n",
      "\n",
      " [[ 48  42   1]\n",
      "  [ 49  43   2]\n",
      "  [ 49  43   2]\n",
      "  ...\n",
      "  [  8  17   7]\n",
      "  [  7  16   6]\n",
      "  [  7  16   6]]\n",
      "\n",
      " [[ 48  42   1]\n",
      "  [ 49  43   2]\n",
      "  [ 49  43   2]\n",
      "  ...\n",
      "  [  6  15   5]\n",
      "  [  6  15   5]\n",
      "  [  6  15   5]]\n",
      "\n",
      " ...\n",
      "\n",
      " [[118  85   0]\n",
      "  [119  86   0]\n",
      "  [119  86   0]\n",
      "  ...\n",
      "  [ 15  24   3]\n",
      "  [ 15  24   3]\n",
      "  [ 15  24   3]]\n",
      "\n",
      " [[117  83   0]\n",
      "  [117  83   0]\n",
      "  [117  83   0]\n",
      "  ...\n",
      "  [ 14  26   4]\n",
      "  [ 13  25   3]\n",
      "  [ 13  25   3]]\n",
      "\n",
      " [[115  84   0]\n",
      "  [115  84   0]\n",
      "  [115  84   0]\n",
      "  ...\n",
      "  [ 14  26   4]\n",
      "  [ 14  26   4]\n",
      "  [ 13  25   3]]]\n",
      "[[30 30 30 ... 11 10 10]\n",
      " [30 31 31 ... 13 12 12]\n",
      " [30 31 31 ... 11 11 11]\n",
      " ...\n",
      " [63 64 64 ... 17 17 17]\n",
      " [62 62 62 ... 18 17 17]\n",
      " [62 62 62 ... 18 18 17]]\n",
      "314712\n"
     ]
    }
   ],
   "source": [
    "print(img)\n",
    "img=cv2.imread('333.jpg',cv2.IMREAD_GRAYSCALE)\n",
    "print(img)\n",
    "cv_show('image',img)\n",
    "cv2.imwrite('test1.png',img)\n",
    "print(img.size)"
   ]
  },
  {
   "cell_type": "code",
   "execution_count": 4,
   "metadata": {},
   "outputs": [],
   "source": [
    "vc=cv2.VideoCapture('123.mp4')"
   ]
  },
  {
   "cell_type": "code",
   "execution_count": 5,
   "metadata": {},
   "outputs": [
    {
     "name": "stdout",
     "output_type": "stream",
     "text": [
      "<class 'numpy.ndarray'>\n"
     ]
    }
   ],
   "source": [
    "if vc.isOpened():\n",
    "    open,frame=vc.read()#read()此函数返回2个：booler，numpy.ndarray(即读取视频的一帧的内容)\n",
    "    print(type(frame))\n",
    "else:\n",
    "    open = False"
   ]
  },
  {
   "cell_type": "code",
   "execution_count": 6,
   "metadata": {},
   "outputs": [],
   "source": [
    "while open:\n",
    "    ret,frame =vc.read()\n",
    "    if frame is None:\n",
    "        break\n",
    "    if ret == True:\n",
    "        gray=cv2.cvtColor(frame,cv2.COLOR_BGR2GRAY)#cv2.COLOR_BGR2GRAY将图像通道转为灰度\n",
    "        #cvtColor(对象，方法)对对象进行的行为结果返回\n",
    "        cv2.imshow('result',gray)\n",
    "        if cv2.waitKey(100)&0xff ==27:#cv2.waitKey() 0xff==27指的是退出键\n",
    "            break\n",
    "vc.release()\n",
    "cv2.destroyAllWindows()"
   ]
  },
  {
   "cell_type": "markdown",
   "metadata": {},
   "source": [
    "#### cv2.COLOR_BGR2GRAY 方法：将图像通道转为灰度\n",
    "#### cv2.cvtColor(对象，方法)对对象进行的行为结果返回\n",
    "#### cv2.waitKey()"
   ]
  },
  {
   "cell_type": "markdown",
   "metadata": {},
   "source": [
    "# 截取部分图像"
   ]
  },
  {
   "cell_type": "code",
   "execution_count": 7,
   "metadata": {},
   "outputs": [],
   "source": [
    "img=cv2.imread('333.jpg')\n",
    "cat=img[0:200,0:200]\n",
    "cv_show('cat',cat)"
   ]
  },
  {
   "cell_type": "markdown",
   "metadata": {},
   "source": [
    "# 颜色通道的提取"
   ]
  },
  {
   "cell_type": "code",
   "execution_count": 8,
   "metadata": {},
   "outputs": [],
   "source": [
    "b,g,r=cv2.split(img)"
   ]
  },
  {
   "cell_type": "code",
   "execution_count": 9,
   "metadata": {},
   "outputs": [
    {
     "data": {
      "text/plain": [
       "array([[42, 42, 42, ..., 15, 14, 14],\n",
       "       [42, 43, 43, ..., 17, 16, 16],\n",
       "       [42, 43, 43, ..., 15, 15, 15],\n",
       "       ...,\n",
       "       [85, 86, 86, ..., 24, 24, 24],\n",
       "       [83, 83, 83, ..., 26, 25, 25],\n",
       "       [84, 84, 84, ..., 26, 26, 25]], dtype=uint8)"
      ]
     },
     "execution_count": 9,
     "metadata": {},
     "output_type": "execute_result"
    }
   ],
   "source": [
    "g"
   ]
  },
  {
   "cell_type": "code",
   "execution_count": 10,
   "metadata": {},
   "outputs": [
    {
     "data": {
      "text/plain": [
       "(558, 564)"
      ]
     },
     "execution_count": 10,
     "metadata": {},
     "output_type": "execute_result"
    }
   ],
   "source": [
    "g.shape"
   ]
  },
  {
   "cell_type": "code",
   "execution_count": 11,
   "metadata": {},
   "outputs": [
    {
     "data": {
      "text/plain": [
       "(558, 564, 3)"
      ]
     },
     "execution_count": 11,
     "metadata": {},
     "output_type": "execute_result"
    }
   ],
   "source": [
    "img=cv2.merge((b,g,r))\n",
    "img.shape"
   ]
  },
  {
   "cell_type": "code",
   "execution_count": 12,
   "metadata": {},
   "outputs": [],
   "source": [
    "cv_show('ppp',img)"
   ]
  },
  {
   "cell_type": "code",
   "execution_count": 13,
   "metadata": {},
   "outputs": [
    {
     "name": "stdout",
     "output_type": "stream",
     "text": [
      "[[[48 42  1]\n",
      "  [48 42  1]\n",
      "  [48 42  1]]\n",
      "\n",
      " [[48 42  1]\n",
      "  [49 43  2]\n",
      "  [49 43  2]]\n",
      "\n",
      " [[48 42  1]\n",
      "  [49 43  2]\n",
      "  [49 43  2]]\n",
      "\n",
      " [[47 41  0]\n",
      "  [48 42  1]\n",
      "  [48 42  1]]\n",
      "\n",
      " [[47 41  0]\n",
      "  [48 42  1]\n",
      "  [48 42  1]]]\n"
     ]
    }
   ],
   "source": [
    "# 保留单独的色彩\n",
    "cur_img= img.copy()\n",
    "# print(cur_img[:])\n",
    "# cur_img[:,:,:] = 0\n",
    "# cur_img[:,:,:] = 0\n",
    "# cv_show('c',cur_img[:5,:5,:])\n",
    "print(cur_img[:5,:3,:])"
   ]
  },
  {
   "cell_type": "markdown",
   "metadata": {},
   "source": [
    "### 图片格式为（行，列，rgb）"
   ]
  },
  {
   "cell_type": "markdown",
   "metadata": {},
   "source": [
    "# 边界填充"
   ]
  },
  {
   "cell_type": "code",
   "execution_count": 14,
   "metadata": {},
   "outputs": [],
   "source": [
    "top_size,bottom_size,left_size,right_size=(50,50,50,50)"
   ]
  },
  {
   "cell_type": "code",
   "execution_count": 15,
   "metadata": {},
   "outputs": [
    {
     "data": {
      "text/plain": [
       "<matplotlib.image.AxesImage at 0x1d2e1469278>"
      ]
     },
     "execution_count": 15,
     "metadata": {},
     "output_type": "execute_result"
    }
   ],
   "source": [
    "wrap=cv2.copyMakeBorder(img,top_size,bottom_size,left_size,right_size,cv2.BORDER_REFLECT_101)\n",
    "plt.imshow(wrap)"
   ]
  },
  {
   "cell_type": "markdown",
   "metadata": {},
   "source": [
    "# 数值计算"
   ]
  },
  {
   "cell_type": "markdown",
   "metadata": {},
   "source": [
    "## 直接对图像进行加10，是对所有的元素进行加10"
   ]
  },
  {
   "cell_type": "code",
   "execution_count": 16,
   "metadata": {},
   "outputs": [
    {
     "data": {
      "text/plain": [
       "array([[48, 48, 48, ...,  6,  5,  5],\n",
       "       [48, 49, 49, ...,  8,  7,  7],\n",
       "       [48, 49, 49, ...,  6,  6,  6],\n",
       "       [47, 48, 48, ...,  4,  4,  4],\n",
       "       [47, 48, 48, ...,  6,  6,  6]], dtype=uint8)"
      ]
     },
     "execution_count": 16,
     "metadata": {},
     "output_type": "execute_result"
    }
   ],
   "source": [
    "img_1=cv2.imread('333.jpg')\n",
    "img_2=cv2.imread('444.png')\n",
    "img_12=img_1+10\n",
    "img_1[:5,:,0]"
   ]
  },
  {
   "cell_type": "code",
   "execution_count": 17,
   "metadata": {},
   "outputs": [
    {
     "data": {
      "text/plain": [
       "array([[58, 58, 58, ..., 16, 15, 15],\n",
       "       [58, 59, 59, ..., 18, 17, 17],\n",
       "       [58, 59, 59, ..., 16, 16, 16],\n",
       "       [57, 58, 58, ..., 14, 14, 14],\n",
       "       [57, 58, 58, ..., 16, 16, 16]], dtype=uint8)"
      ]
     },
     "execution_count": 17,
     "metadata": {},
     "output_type": "execute_result"
    }
   ],
   "source": [
    "img_12[:5,:,0]"
   ]
  },
  {
   "cell_type": "markdown",
   "metadata": {},
   "source": [
    "## 要是直接用“+” 若数值溢出则使用溢出数值-256"
   ]
  },
  {
   "cell_type": "code",
   "execution_count": 18,
   "metadata": {},
   "outputs": [
    {
     "data": {
      "text/plain": [
       "array([[202, 202, 202, ...,  34,  30,  30],\n",
       "       [202, 206, 206, ...,  42,  38,  38],\n",
       "       [202, 206, 206, ...,  34,  34,  34],\n",
       "       [198, 202, 202, ...,  26,  26,  26],\n",
       "       [198, 202, 202, ...,  34,  34,  34]], dtype=uint8)"
      ]
     },
     "execution_count": 18,
     "metadata": {},
     "output_type": "execute_result"
    }
   ],
   "source": [
    "(img_1+img_12+img_1+img_1)[:5,:,0]"
   ]
  },
  {
   "cell_type": "markdown",
   "metadata": {},
   "source": [
    "## cv2.add()这个函数溢出值直接为255"
   ]
  },
  {
   "cell_type": "code",
   "execution_count": 19,
   "metadata": {},
   "outputs": [
    {
     "data": {
      "text/plain": [
       "array([[106, 106, 106, ...,  22,  20,  20],\n",
       "       [106, 108, 108, ...,  26,  24,  24],\n",
       "       [106, 108, 108, ...,  22,  22,  22],\n",
       "       [104, 106, 106, ...,  18,  18,  18],\n",
       "       [104, 106, 106, ...,  22,  22,  22]], dtype=uint8)"
      ]
     },
     "execution_count": 19,
     "metadata": {},
     "output_type": "execute_result"
    }
   ],
   "source": [
    "cv2.add(img_1,img_12)[:5,:,0]"
   ]
  },
  {
   "cell_type": "markdown",
   "metadata": {},
   "source": [
    "# 图像融合"
   ]
  },
  {
   "cell_type": "code",
   "execution_count": 20,
   "metadata": {},
   "outputs": [],
   "source": [
    "# img_1+img_2"
   ]
  },
  {
   "cell_type": "code",
   "execution_count": 21,
   "metadata": {},
   "outputs": [
    {
     "data": {
      "text/plain": [
       "(558, 564, 3)"
      ]
     },
     "execution_count": 21,
     "metadata": {},
     "output_type": "execute_result"
    }
   ],
   "source": [
    "img_1.shape"
   ]
  },
  {
   "cell_type": "code",
   "execution_count": 22,
   "metadata": {},
   "outputs": [
    {
     "data": {
      "text/plain": [
       "(558, 565, 3)"
      ]
     },
     "execution_count": 22,
     "metadata": {},
     "output_type": "execute_result"
    }
   ],
   "source": [
    "img_2.shape"
   ]
  },
  {
   "cell_type": "markdown",
   "metadata": {},
   "source": [
    "## cv2.resize(图片,(列，行))这个与shape方法所表示的位子是有出入的    这个函数是进行拉伸的行为\n",
    "## 还可以用cv2.resize(img,(0,0),fx=1,fy=3) 对x，y方向进行拉伸"
   ]
  },
  {
   "cell_type": "code",
   "execution_count": 23,
   "metadata": {},
   "outputs": [
    {
     "data": {
      "text/plain": [
       "(424, 645, 3)"
      ]
     },
     "execution_count": 23,
     "metadata": {},
     "output_type": "execute_result"
    }
   ],
   "source": [
    "img_2=cv2.resize(img_2,(645,424))\n",
    "img_2.shape\n",
    "# cv_show('1',img_2)"
   ]
  },
  {
   "cell_type": "code",
   "execution_count": 24,
   "metadata": {},
   "outputs": [],
   "source": [
    "res = cv2.resize(img,(0,0),fx=1,fy=3)\n",
    "cv_show('',res)"
   ]
  },
  {
   "cell_type": "markdown",
   "metadata": {},
   "source": [
    "## res = a*img_1+b*img_2+c"
   ]
  },
  {
   "cell_type": "code",
   "execution_count": 25,
   "metadata": {},
   "outputs": [],
   "source": [
    "# res =cv2.addWeighted(img_1,0.4,img_2,0.6,0)\n",
    "# cv_show('',res)\n",
    "# # plt.imshow(res)"
   ]
  },
  {
   "cell_type": "markdown",
   "metadata": {},
   "source": [
    "# 图像阈值"
   ]
  },
  {
   "cell_type": "markdown",
   "metadata": {},
   "source": [
    "ret,dst=cv2.threshold(src,thresh,maxval,type)\n",
    "- src:输入图为单通道\n",
    "- 有许多的type"
   ]
  },
  {
   "cell_type": "code",
   "execution_count": 26,
   "metadata": {},
   "outputs": [],
   "source": [
    "img_gray=cv2.imread('333gray.png')\n",
    "ret,thresh1=cv2.threshold(img_gray,127,255,cv2.THRESH_TOZERO)\n",
    "cv_show('',thresh1)"
   ]
  },
  {
   "cell_type": "markdown",
   "metadata": {},
   "source": [
    "# 图像平滑（滤波）"
   ]
  },
  {
   "cell_type": "code",
   "execution_count": 27,
   "metadata": {},
   "outputs": [],
   "source": [
    "# 均值滤波\n",
    "# 简单的平均卷积操作\n",
    "blur = cv2.blur(img,(3,3))\n",
    "\n",
    "cv_show('',blur)"
   ]
  },
  {
   "cell_type": "code",
   "execution_count": 28,
   "metadata": {},
   "outputs": [],
   "source": [
    "#方框滤波\n",
    "# 基本和均值一样，可以选择归一化，否则容易越界\n",
    "box = cv2.boxFilter(img,-1,(3,3),normalize=False)\n",
    "\n",
    "cv_show('',box)"
   ]
  },
  {
   "cell_type": "code",
   "execution_count": 29,
   "metadata": {},
   "outputs": [],
   "source": [
    "# 高斯滤波\n",
    "aussian = cv2.GaussianBlur(img,(5,5),1)\n",
    "\n",
    "cv_show('',aussian)"
   ]
  },
  {
   "cell_type": "code",
   "execution_count": 30,
   "metadata": {},
   "outputs": [],
   "source": [
    "# 中值滤波\n",
    "median = cv2.medianBlur(img,5)\n",
    "\n",
    "cv_show('',median)"
   ]
  },
  {
   "cell_type": "code",
   "execution_count": 31,
   "metadata": {},
   "outputs": [],
   "source": [
    "# 展示所有\n",
    "res = np.hstack((blur,aussian,median))\n",
    "cv_show('',res)"
   ]
  },
  {
   "cell_type": "markdown",
   "metadata": {},
   "source": [
    "# 形态学——腐蚀操作"
   ]
  },
  {
   "cell_type": "code",
   "execution_count": 70,
   "metadata": {},
   "outputs": [],
   "source": [
    "# 读取图像\n",
    "img = cv2.imread('lys1.jpg',cv2.IMREAD_GRAYSCALE)\n",
    "\n",
    "# 利用图像阈值操作实现颜色的反转\n",
    "ret,thresh1=cv2.threshold(img,127,255,cv2.THRESH_BINARY_INV)\n",
    "\n",
    "cv_show('',thresh1)"
   ]
  },
  {
   "cell_type": "code",
   "execution_count": 71,
   "metadata": {},
   "outputs": [],
   "source": [
    "# 创建一个核\n",
    "kernel = np.ones((3,3),np.uint8)\n",
    "\n",
    "# 使用腐蚀函数 `cv2.erode` 迭代次数为：1\n",
    "erosion = cv2.erode(thresh1, kernel, iterations = 1)\n",
    "\n",
    "# 展示效果\n",
    "cv_show('',erosion)"
   ]
  },
  {
   "cell_type": "markdown",
   "metadata": {},
   "source": [
    "# 形态学-膨胀操作"
   ]
  },
  {
   "cell_type": "code",
   "execution_count": 72,
   "metadata": {},
   "outputs": [],
   "source": [
    "# 创建一个核用于膨胀操作\n",
    "kernel = np.ones((3,3),np.uint8)\n",
    "\n",
    "#开始膨胀操作 `cv2.dilate` 迭代次数为：1\n",
    "dilate = cv2.dilate(img,kernel,iterations=1)\n",
    "\n",
    "#展示\n",
    "cv_show('',dilate)"
   ]
  },
  {
   "cell_type": "markdown",
   "metadata": {},
   "source": [
    "# 开运算和闭运算"
   ]
  },
  {
   "cell_type": "code",
   "execution_count": 73,
   "metadata": {},
   "outputs": [],
   "source": [
    "# 开运算：先腐蚀再膨胀\n",
    "# 创建一个核(5,5)\n",
    "kernel = np.ones((5,5), np.uint8)\n",
    "\n",
    "# 进行开运算\n",
    "opening = cv2.morphologyEx(thresh1, cv2.MORPH_OPEN, kernel)\n",
    "\n",
    "#展示\n",
    "cv_show('',opening)"
   ]
  },
  {
   "cell_type": "code",
   "execution_count": 74,
   "metadata": {},
   "outputs": [],
   "source": [
    "# 闭运算：先膨胀再腐蚀\n",
    "\n",
    "# 进行闭运算\n",
    "closing = cv2.morphologyEx(img, cv2.MORPH_CLOSE, kernel)\n",
    "\n",
    "#展示\n",
    "cv_show('',closing)"
   ]
  },
  {
   "cell_type": "markdown",
   "metadata": {},
   "source": [
    "# 梯度运算"
   ]
  },
  {
   "cell_type": "code",
   "execution_count": 75,
   "metadata": {},
   "outputs": [],
   "source": [
    "# 梯度=膨胀-腐蚀\n",
    "# 创建一个核(7,7)\n",
    "img = cv2.imread('lys1.jpg')\n",
    "kernel = np.ones((7,7), np.uint8)\n",
    "gradient = cv2.morphologyEx(img, cv2.MORPH_GRADIENT, kernel)\n",
    "\n",
    "#展示\n",
    "cv_show('',gradient)"
   ]
  },
  {
   "cell_type": "markdown",
   "metadata": {},
   "source": [
    "# 礼帽和黑帽\n",
    "- 礼帽 = 原始输入 - 开运算结果 ————实际就等于开运算剔除掉的内容\n",
    "- 黑帽 = 闭运算 - 原始输入 ——————"
   ]
  },
  {
   "cell_type": "code",
   "execution_count": 77,
   "metadata": {},
   "outputs": [],
   "source": [
    "# 礼帽\n",
    "tophat = cv2.morphologyEx(thresh1, cv2.MORPH_OPEN, kernel)\n",
    "\n",
    "#展示\n",
    "cv_show('',tophat)"
   ]
  },
  {
   "cell_type": "code",
   "execution_count": 78,
   "metadata": {},
   "outputs": [],
   "source": [
    "#黑帽\n",
    "blackhat = cv2.morphologyEx(thresh1, cv2.MORPH_BLACKHAT, kernel)\n",
    "\n",
    "#展示\n",
    "cv_show('',blackhat)"
   ]
  }
 ],
 "metadata": {
  "interpreter": {
   "hash": "695f5d719c70ba28a1dc93aeab19fb5fd04c31ebf8c22a5bb4c02f4bb0f6bb13"
  },
  "kernelspec": {
   "display_name": "Python 3.6.2 64-bit ('py36': conda)",
   "name": "python3"
  },
  "language_info": {
   "codemirror_mode": {
    "name": "ipython",
    "version": 3
   },
   "file_extension": ".py",
   "mimetype": "text/x-python",
   "name": "python",
   "nbconvert_exporter": "python",
   "pygments_lexer": "ipython3",
   "version": "3.6.2"
  },
  "orig_nbformat": 4
 },
 "nbformat": 4,
 "nbformat_minor": 2
}
