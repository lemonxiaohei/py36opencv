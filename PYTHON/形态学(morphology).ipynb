{
 "cells": [
  {
   "cell_type": "code",
   "execution_count": 2,
   "metadata": {},
   "outputs": [],
   "source": [
    "import cv2\n",
    "import matplotlib.pyplot as plt\n",
    "import numpy as np"
   ]
  },
  {
   "cell_type": "code",
   "execution_count": 3,
   "metadata": {},
   "outputs": [],
   "source": [
    "def cv_show(img,name):\n",
    "    cv2.imshow(name,img)\n",
    "    cv2.waitKey(0)\n",
    "    cv2.destroyAllWindows()"
   ]
  },
  {
   "cell_type": "markdown",
   "metadata": {},
   "source": [
    "# 形态学——腐蚀操作"
   ]
  },
  {
   "cell_type": "code",
   "execution_count": 4,
   "metadata": {},
   "outputs": [],
   "source": [
    "# 读取图像\n",
    "img = cv2.imread('lys1.jpg',cv2.IMREAD_GRAYSCALE)\n",
    "\n",
    "# 利用图像阈值操作实现颜色的反转\n",
    "ret,thresh1=cv2.threshold(img,127,255,cv2.THRESH_BINARY_INV)\n",
    "\n",
    "cv_show(thresh1,'')\n",
    "# 创建一个核\n",
    "kernel = np.ones((3,3),np.uint8)\n",
    "\n",
    "# 使用腐蚀函数 `cv2.erode` 迭代次数为：1\n",
    "erosion = cv2.erode(thresh1, kernel, iterations = 1)\n",
    "\n",
    "# 展示效果\n",
    "cv_show(erosion,'')"
   ]
  },
  {
   "cell_type": "markdown",
   "metadata": {},
   "source": [
    "# 形态学-膨胀操作"
   ]
  },
  {
   "cell_type": "code",
   "execution_count": 5,
   "metadata": {},
   "outputs": [],
   "source": [
    "# 创建一个核用于膨胀操作\n",
    "kernel = np.ones((3,3),np.uint8)\n",
    "\n",
    "#开始膨胀操作 `cv2.dilate` 迭代次数为：1\n",
    "dilate = cv2.dilate(img,kernel,iterations=1)\n",
    "\n",
    "#展示\n",
    "cv_show(dilate,'')"
   ]
  },
  {
   "cell_type": "markdown",
   "metadata": {},
   "source": [
    "# 开运算和闭运算"
   ]
  },
  {
   "cell_type": "code",
   "execution_count": 6,
   "metadata": {},
   "outputs": [],
   "source": [
    "# 开运算：先腐蚀再膨胀\n",
    "# 创建一个核(5,5)\n",
    "kernel = np.ones((5,5), np.uint8)\n",
    "\n",
    "# 进行开运算\n",
    "opening = cv2.morphologyEx(thresh1, cv2.MORPH_OPEN, kernel)\n",
    "\n",
    "#展示\n",
    "cv_show(opening,'')"
   ]
  },
  {
   "cell_type": "code",
   "execution_count": 7,
   "metadata": {},
   "outputs": [],
   "source": [
    "# 闭运算：先膨胀再腐蚀\n",
    "# 进行闭运算\n",
    "closing = cv2.morphologyEx(img, cv2.MORPH_CLOSE, kernel)\n",
    "\n",
    "#展示\n",
    "cv_show(closing,'')"
   ]
  },
  {
   "cell_type": "markdown",
   "metadata": {},
   "source": [
    "# 梯度运算"
   ]
  },
  {
   "cell_type": "code",
   "execution_count": 8,
   "metadata": {},
   "outputs": [],
   "source": [
    "# 梯度=膨胀-腐蚀\n",
    "# 创建一个核(7,7)\n",
    "img = cv2.imread('lys1.jpg')\n",
    "kernel = np.ones((7,7), np.uint8)\n",
    "gradient = cv2.morphologyEx(img, cv2.MORPH_GRADIENT, kernel)\n",
    "\n",
    "#展示\n",
    "cv_show(gradient,'')"
   ]
  },
  {
   "cell_type": "markdown",
   "metadata": {},
   "source": [
    "# 礼帽和黑帽\n",
    "- 礼帽 = 原始输入 - 开运算结果 ————实际就等于开运算剔除掉的内容\n",
    "- 黑帽 = 闭运算 - 原始输入 ——————"
   ]
  },
  {
   "cell_type": "code",
   "execution_count": 9,
   "metadata": {},
   "outputs": [],
   "source": [
    "# 礼帽\n",
    "tophat = cv2.morphologyEx(thresh1, cv2.MORPH_OPEN, kernel)\n",
    "\n",
    "#展示\n",
    "cv_show(tophat,'')\n",
    "#黑帽\n",
    "blackhat = cv2.morphologyEx(thresh1, cv2.MORPH_BLACKHAT, kernel)\n",
    "\n",
    "#展示\n",
    "cv_show(blackhat,'')"
   ]
  },
  {
   "cell_type": "markdown",
   "metadata": {},
   "source": [
    "# 图像梯度 - Sobel算子"
   ]
  },
  {
   "cell_type": "code",
   "execution_count": 10,
   "metadata": {},
   "outputs": [],
   "source": [
    "# 导入图像--单通道\n",
    "img = cv2.imread('pie.jpg',cv2.IMREAD_GRAYSCALE)\n",
    "\n",
    "#展示\n",
    "cv_show(img,'')"
   ]
  },
  {
   "cell_type": "code",
   "execution_count": 11,
   "metadata": {},
   "outputs": [],
   "source": [
    "# sobel算子对图像进行处理 cv2.CV_64F 可以表示负数 dx上的\n",
    "sobelx = cv2.Sobel(img, cv2.CV_64F, 1, 0, ksize=3)\n",
    "\n",
    "# sobel算子对图像进行处理 cv2.CV_64F 可以表示负数 dy上的\n",
    "sobely = cv2.Sobel(img, cv2.CV_64F, 0, 1, ksize=3)\n",
    "\n",
    "#合并图像\n",
    "res = np.hstack((sobelx,sobely))\n",
    "\n",
    "#展示\n",
    "cv_show(res,'')"
   ]
  },
  {
   "cell_type": "code",
   "execution_count": 12,
   "metadata": {},
   "outputs": [],
   "source": [
    "# 添加绝对值后的显示效果\n",
    "sobelx = cv2.convertScaleAbs(sobelx)\n",
    "sobely = cv2.convertScaleAbs(sobely)\n",
    "\n",
    "#合并图像\n",
    "res = np.hstack((sobelx,sobely))\n",
    "\n",
    "#展示\n",
    "cv_show(res,'')"
   ]
  },
  {
   "cell_type": "code",
   "execution_count": 13,
   "metadata": {},
   "outputs": [],
   "source": [
    "# dx，dy合并\n",
    "sobelxy = cv2.addWeighted(sobelx, 0.5, sobely, 0.5, 0)\n",
    "\n",
    "#合并图像\n",
    "res = np.hstack((sobelx,sobely,sobelxy))\n",
    "#展示\n",
    "cv_show(res,'')"
   ]
  },
  {
   "cell_type": "code",
   "execution_count": 14,
   "metadata": {},
   "outputs": [],
   "source": [
    "# 直接用Sobel方法计算的结果为\n",
    "# sobelxy = cv2.Sobel(img, cv2.CV_64F, 1, 1, ksize=3)\n",
    "# sobelxy = cv2.convertScaleAbs(sobelxy)\n",
    "\n",
    "#展示\n",
    "cv_show(sobelxy,'')"
   ]
  },
  {
   "cell_type": "markdown",
   "metadata": {},
   "source": [
    "# 图像梯度-Scharr算子\n",
    "# 图像梯度-Laplacian算子"
   ]
  },
  {
   "cell_type": "code",
   "execution_count": 15,
   "metadata": {},
   "outputs": [],
   "source": [
    "# Scharr算子\n",
    "scharrx = cv2.Scharr(img,cv2.CV_64F,1,0)\n",
    "scharry = cv2.Scharr(img,cv2.CV_64F,0,1)\n",
    "scharrx = cv2.convertScaleAbs(scharrx)\n",
    "scharry = cv2.convertScaleAbs(scharry)\n",
    "scharrxy = cv2.addWeighted(scharrx, 0.5, scharry, 0.5, 0)\n",
    "\n",
    "# Laplacian算子\n",
    "laplacian = cv2.Laplacian(img,cv2.CV_64F)\n",
    "laplacian = cv2.convertScaleAbs(laplacian)\n",
    "\n",
    "#合并图像\n",
    "res = np.hstack((sobelxy,scharrxy,laplacian))\n",
    "\n",
    "#展示\n",
    "cv_show(res,'')"
   ]
  },
  {
   "cell_type": "markdown",
   "metadata": {},
   "source": [
    "# Canny边缘检测\n",
    "1. 使用高斯滤波器，平滑图像，滤除噪点\n",
    "2. 计算图像中每个像素点的梯度强度和方向\n",
    "3. 应用非极大值抑制，用于消除边缘检测带来的杂散响应\n",
    "4. 应用双阈值检测来确定真实的和潜在的边缘\n",
    "5. 通过抑制孤立的弱边缘最终来完成边缘检测"
   ]
  },
  {
   "cell_type": "code",
   "execution_count": 19,
   "metadata": {},
   "outputs": [],
   "source": [
    "#读取图像\n",
    "img = cv2.imread('test1.png')\n",
    "\n",
    "# 进行Canny边缘检测\n",
    "v1 = cv2.Canny(img, 80, 150)\n",
    "v2 = cv2.Canny(img, 50,100)\n",
    "\n",
    "#合并图像\n",
    "res = np.hstack((v1,v2))\n",
    "\n",
    "#展示\n",
    "cv_show(res,'')"
   ]
  },
  {
   "cell_type": "code",
   "execution_count": null,
   "metadata": {},
   "outputs": [],
   "source": [
    "# 进行Canny边缘检测\n",
    "v1 = cv2.Canny(img, 120, 250)\n",
    "v2 = cv2.Canny(img, 50,100)\n",
    "\n",
    "#合并图像\n",
    "res = np.hstack((v1,v2))\n",
    "\n",
    "#展示\n",
    "cv_show(res,'')"
   ]
  }
 ],
 "metadata": {
  "interpreter": {
   "hash": "695f5d719c70ba28a1dc93aeab19fb5fd04c31ebf8c22a5bb4c02f4bb0f6bb13"
  },
  "kernelspec": {
   "display_name": "Python 3.6.2 64-bit ('py36': conda)",
   "name": "python3"
  },
  "language_info": {
   "codemirror_mode": {
    "name": "ipython",
    "version": 3
   },
   "file_extension": ".py",
   "mimetype": "text/x-python",
   "name": "python",
   "nbconvert_exporter": "python",
   "pygments_lexer": "ipython3",
   "version": "3.6.2"
  },
  "orig_nbformat": 4
 },
 "nbformat": 4,
 "nbformat_minor": 2
}
